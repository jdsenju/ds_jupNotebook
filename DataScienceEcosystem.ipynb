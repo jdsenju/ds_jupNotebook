{
 "cells": [
  {
   "cell_type": "markdown",
   "id": "1902aba3-b9dd-4d16-bf48-9b79229caf5f",
   "metadata": {},
   "source": [
    "# Data Science Tools and Ecosystem"
   ]
  },
  {
   "cell_type": "markdown",
   "id": "fea9713b-6057-4597-9de2-186bb6cb503a",
   "metadata": {},
   "source": [
    "## Author\n",
    "Juan Diego Sanchez Trujillo"
   ]
  },
  {
   "cell_type": "markdown",
   "id": "5911f783-2e70-47bc-9846-aafa6fa01546",
   "metadata": {},
   "source": [
    "#### In this notebook, Data Science Tools and Ecosystem are summarized."
   ]
  },
  {
   "cell_type": "markdown",
   "id": "ce5e2a48-a69b-49dd-a394-2fea8aa3c14d",
   "metadata": {},
   "source": [
    "**Objectives:**\n",
    "+ List popular languages for Data Science\n",
    "+ List common used librearies for Data Science\n",
    "+ Indicate development environmet open source tools for Data Science\n",
    "+ Evaluate arithmetic expressions in Python"
   ]
  },
  {
   "cell_type": "markdown",
   "id": "d7de0abd-10a2-4f21-b426-874f506d80ae",
   "metadata": {},
   "source": [
    "Some of the popular languages that Data Scientists use are:\n",
    "1. Python\n",
    "2. R\n",
    "3. SQL\n",
    "4. Java\n",
    "5. C\n",
    "6. C++"
   ]
  },
  {
   "cell_type": "markdown",
   "id": "ce183d32-df58-405c-be36-0150e6b05f0a",
   "metadata": {},
   "source": [
    "Some of the commonly used libraries used by Data Scientists include:\n",
    "1. NumPy\n",
    "2. Pandas\n",
    "3. TensorFlow\n",
    "4. Matplotlib\n",
    "5. Scikit-learn"
   ]
  },
  {
   "cell_type": "markdown",
   "id": "43ce6c37-e400-4a3e-9a9f-a38e0a5e3169",
   "metadata": {},
   "source": [
    "|Data Science Tools|\n",
    "|-------------------|\n",
    "|Jupyter Notebook|\n",
    "|R Studio|\n",
    "|Visual Studio Code|"
   ]
  },
  {
   "cell_type": "markdown",
   "id": "a6279dc6-99aa-4a0f-a1b6-1899ddf78b1a",
   "metadata": {},
   "source": [
    "### Below are a few examples of evaluating arithmetic expressions in Python"
   ]
  },
  {
   "cell_type": "code",
   "execution_count": 20,
   "id": "29578317-30cb-4033-b4b3-7249c502571d",
   "metadata": {},
   "outputs": [
    {
     "data": {
      "text/plain": [
       "17"
      ]
     },
     "execution_count": 20,
     "metadata": {},
     "output_type": "execute_result"
    }
   ],
   "source": [
    "#This is a simple arithmetic expression to multiply then add integers\n",
    "(3*4)+5"
   ]
  },
  {
   "cell_type": "code",
   "execution_count": 22,
   "id": "80192df1-6140-4148-a807-a3a6c3049fb4",
   "metadata": {},
   "outputs": [
    {
     "data": {
      "text/plain": [
       "3.3333333333333335"
      ]
     },
     "execution_count": 22,
     "metadata": {},
     "output_type": "execute_result"
    }
   ],
   "source": [
    "#this will convert 200 minutes to hours by diving by 60\n",
    "200/60"
   ]
  }
 ],
 "metadata": {
  "kernelspec": {
   "display_name": "Python [conda env:base] *",
   "language": "python",
   "name": "conda-base-py"
  },
  "language_info": {
   "codemirror_mode": {
    "name": "ipython",
    "version": 3
   },
   "file_extension": ".py",
   "mimetype": "text/x-python",
   "name": "python",
   "nbconvert_exporter": "python",
   "pygments_lexer": "ipython3",
   "version": "3.12.7"
  }
 },
 "nbformat": 4,
 "nbformat_minor": 5
}
